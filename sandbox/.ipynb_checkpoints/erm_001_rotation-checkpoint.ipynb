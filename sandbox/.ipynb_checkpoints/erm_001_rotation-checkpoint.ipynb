{
 "cells": [
  {
   "cell_type": "code",
   "execution_count": 1,
   "metadata": {},
   "outputs": [],
   "source": [
    "import numpy as np\n",
    "import matplotlib.pyplot as plt\n",
    "from mpl_toolkits.mplot3d import Axes3D\n",
    "from scipy.spatial.transform import Rotation as R\n",
    "import ipywidgets as widgets\n",
    "from ipywidgets import interact, interact_manual\n",
    "from ipywidgets import interactive\n",
    "%matplotlib inline\n"
   ]
  },
  {
   "cell_type": "markdown",
   "metadata": {},
   "source": [
    "# Para encontrar el vector de rotacion"
   ]
  },
  {
   "cell_type": "code",
   "execution_count": 2,
   "metadata": {},
   "outputs": [
    {
     "data": {
      "text/plain": [
       "array([[ 1.,  0.,  0.],\n",
       "       [ 0.,  0., -1.],\n",
       "       [ 0.,  1.,  0.]])"
      ]
     },
     "execution_count": 2,
     "metadata": {},
     "output_type": "execute_result"
    }
   ],
   "source": [
    "r = R.from_euler(\"x\",90,degrees=True)\n",
    "r.as_matrix().round(3)"
   ]
  },
  {
   "cell_type": "code",
   "execution_count": 3,
   "metadata": {},
   "outputs": [
    {
     "data": {
      "text/plain": [
       "array([[ 0.,  0.,  1.],\n",
       "       [ 0.,  1.,  0.],\n",
       "       [-1.,  0.,  0.]])"
      ]
     },
     "execution_count": 3,
     "metadata": {},
     "output_type": "execute_result"
    }
   ],
   "source": [
    "r = R.from_euler(\"y\",90,degrees=True)\n",
    "r.as_matrix().round(3)"
   ]
  },
  {
   "cell_type": "code",
   "execution_count": 4,
   "metadata": {},
   "outputs": [
    {
     "data": {
      "text/plain": [
       "array([[ 0., -1.,  0.],\n",
       "       [ 1.,  0.,  0.],\n",
       "       [ 0.,  0.,  1.]])"
      ]
     },
     "execution_count": 4,
     "metadata": {},
     "output_type": "execute_result"
    }
   ],
   "source": [
    "r = R.from_euler(\"z\",90,degrees=True)\n",
    "r.as_matrix().round(3)"
   ]
  },
  {
   "cell_type": "code",
   "execution_count": 5,
   "metadata": {},
   "outputs": [
    {
     "data": {
      "text/plain": [
       "array([[ 1.,  0.,  0.],\n",
       "       [ 0.,  0., -1.],\n",
       "       [ 0.,  1.,  0.]])"
      ]
     },
     "execution_count": 5,
     "metadata": {},
     "output_type": "execute_result"
    }
   ],
   "source": [
    "r = R.from_euler(\"xyz\",[90,0,0],degrees=True)\n",
    "r.as_matrix().round(3)"
   ]
  },
  {
   "cell_type": "markdown",
   "metadata": {},
   "source": [
    "# Las rotaciones no son conmutables"
   ]
  },
  {
   "cell_type": "code",
   "execution_count": 6,
   "metadata": {},
   "outputs": [
    {
     "data": {
      "text/plain": [
       "array([[ 0.707,  0.707,  0.   ],\n",
       "       [ 0.   ,  0.   , -1.   ],\n",
       "       [-0.707,  0.707,  0.   ]])"
      ]
     },
     "execution_count": 6,
     "metadata": {},
     "output_type": "execute_result"
    }
   ],
   "source": [
    "r = R.from_euler(\"xyz\",[90,45,0],degrees=True)\n",
    "r.as_matrix().round(3)"
   ]
  },
  {
   "cell_type": "code",
   "execution_count": 7,
   "metadata": {},
   "outputs": [
    {
     "data": {
      "text/plain": [
       "array([[ 0.707,  0.   ,  0.707],\n",
       "       [ 0.707,  0.   , -0.707],\n",
       "       [-0.   ,  1.   ,  0.   ]])"
      ]
     },
     "execution_count": 7,
     "metadata": {},
     "output_type": "execute_result"
    }
   ],
   "source": [
    "r = R.from_euler(\"yzx\",[45,0,90],degrees=True)\n",
    "r.as_matrix().round(3)"
   ]
  },
  {
   "cell_type": "markdown",
   "metadata": {},
   "source": [
    "# Let's rotate the reference frame"
   ]
  },
  {
   "cell_type": "code",
   "execution_count": 25,
   "metadata": {},
   "outputs": [],
   "source": [
    "elev = 30\n",
    "azim = 60\n",
    "thetax, thetay, thetaz = 10,20,30\n",
    "\n",
    "\n",
    "def rotation(thetax=0,thetay=0,thetaz=0):\n",
    "    elev=30\n",
    "    azim=60\n",
    "    vx = np.array([1,0,0])\n",
    "    vy = np.array([0,1,0])\n",
    "    vz = np.array([0,0,1])\n",
    "    o  = np.array([0,0,0])\n",
    "    p = np.array([1,0,0])\n",
    "                 \n",
    "    r = R.from_euler('xyz',[thetax,thetay,thetaz],degrees=True)\n",
    "                 \n",
    "    vx_r = r.apply(vx)\n",
    "    vy_r = r.apply(vy)\n",
    "    vz_r = r.apply(vz)\n",
    "\n",
    "    fig = plt.figure()\n",
    "    ax = Axes3D(fig,auto_add_to_figure=False)\n",
    "    fig.add_axes(ax)\n",
    "    ax.quiver3D(o[0],o[1],o[2], vx[0],vx[1],vx[2] ,color=\"blue\", label=\"x\" ,linestyle=\"dashed\")\n",
    "    ax.quiver3D(o[0],o[1],o[2], vy[0],vy[1],vy[2] ,color=\"red\",  label=\"y\" ,linestyle=\"dashed\")\n",
    "    ax.quiver3D(o[0],o[1],o[2], vz[0],vz[1],vz[2] ,color=\"green\",label=\"z\" ,linestyle=\"dashed\")\n",
    "\n",
    "\n",
    "    ax.quiver3D(o[0],o[1],o[2], vx_r[0],vx_r[1],vx_r[2] ,color=\"blue\", label=\"x'\")\n",
    "    ax.quiver3D(o[0],o[1],o[2], vy_r[0],vy_r[1],vy_r[2] ,color=\"red\",  label=\"y'\")\n",
    "    ax.quiver3D(o[0],o[1],o[2], vz_r[0],vz_r[1],vz_r[2] ,color=\"green\",label=\"z'\")\n",
    "\n",
    "    pr = r.apply(p)\n",
    "    print('Matriz de rotación:\\n')\n",
    "    print(r.as_matrix().round(3))\n",
    "    print('\\n')\n",
    "    \n",
    "    print(\"x  = \",p.round(3))\n",
    "    print(\"x' = \",pr.round(3))\n",
    "                 \n",
    "    ax.scatter(p[0],p[1],p[2],color='k')\n",
    "    ax.scatter(pr[0],pr[1],pr[2],color='r')\n",
    "                 \n",
    "    ax.set_xlim(-1,1)\n",
    "    ax.set_ylim(-1,1)\n",
    "    ax.set_zlim(-1,1)\n",
    "    ax.legend()\n",
    "    ax.view_init(elev,azim)"
   ]
  },
  {
   "cell_type": "code",
   "execution_count": 26,
   "metadata": {},
   "outputs": [
    {
     "data": {
      "application/vnd.jupyter.widget-view+json": {
       "model_id": "1c550d63becc489b8448ef9dbf887f28",
       "version_major": 2,
       "version_minor": 0
      },
      "text/plain": [
       "interactive(children=(IntSlider(value=0, description='thetax', max=180, min=-180, step=15), IntSlider(value=0,…"
      ]
     },
     "metadata": {},
     "output_type": "display_data"
    }
   ],
   "source": [
    "interactive_rotation = interact(rotation,\n",
    "#          elev=widgets.IntSlider(min=-90,max=180,   step=15,value=30),\n",
    "#          azim=widgets.IntSlider(min=-90,max=90,    step=15,value=30),\n",
    "         angle=widgets.IntSlider(min=0,max=360,    step=15,value=0),\n",
    "         thetax=widgets.IntSlider(min=-180,max=180,step=15,value=0),\n",
    "         thetay=widgets.IntSlider(min=-180,max=180,step=15,value=0),\n",
    "         thetaz=widgets.IntSlider(min=-180,max=180,step=15,value=0),\n",
    "         );\n",
    "\n"
   ]
  },
  {
   "cell_type": "code",
   "execution_count": null,
   "metadata": {},
   "outputs": [],
   "source": []
  }
 ],
 "metadata": {
  "kernelspec": {
   "display_name": "Python 3",
   "language": "python",
   "name": "python3"
  },
  "language_info": {
   "codemirror_mode": {
    "name": "ipython",
    "version": 3
   },
   "file_extension": ".py",
   "mimetype": "text/x-python",
   "name": "python",
   "nbconvert_exporter": "python",
   "pygments_lexer": "ipython3",
   "version": "3.8.5"
  }
 },
 "nbformat": 4,
 "nbformat_minor": 4
}
