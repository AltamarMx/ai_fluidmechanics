{
 "cells": [
  {
   "cell_type": "code",
   "execution_count": 1,
   "metadata": {},
   "outputs": [],
   "source": [
    "import pandas as pd\n",
    "import numpy as np\n",
    "import matplotlib.pyplot as plt"
   ]
  },
  {
   "cell_type": "markdown",
   "metadata": {},
   "source": [
    "# Create and train a perceptron \n"
   ]
  },
  {
   "cell_type": "code",
   "execution_count": 11,
   "metadata": {},
   "outputs": [],
   "source": [
    "x = [3,2]\n",
    "w = [0.3,0.4]\n",
    "Y = 0.71  # resultado al que queremos llega\n",
    "def problema(x,w):\n",
    "    return np.dot(x,w)"
   ]
  },
  {
   "cell_type": "code",
   "execution_count": 12,
   "metadata": {},
   "outputs": [
    {
     "data": {
      "text/plain": [
       "0.29999999999999993"
      ]
     },
     "execution_count": 12,
     "metadata": {},
     "output_type": "execute_result"
    }
   ],
   "source": [
    "problema(x=[3,2],w=[-0.1,0.3])\n"
   ]
  },
  {
   "cell_type": "code",
   "execution_count": 17,
   "metadata": {},
   "outputs": [
    {
     "name": "stdout",
     "output_type": "stream",
     "text": [
      "costo 0.9801\n"
     ]
    }
   ],
   "source": [
    "#  Inputs\n",
    "x1 = 3\n",
    "x2 = 2\n",
    "x = [x1,x2]\n",
    "\n",
    "# Pesos\n",
    "w1 = 0.3\n",
    "w2 = 0.4\n",
    "w = [w1,w2]\n",
    "\n",
    "# Respuesta\n",
    "Y = 0.71\n",
    "h = problema(x,w)\n",
    "costo = (Y - h)**2\n",
    "print(\"costo\",costo)"
   ]
  },
  {
   "cell_type": "code",
   "execution_count": 35,
   "metadata": {},
   "outputs": [],
   "source": [
    "def sigmoid(x):\n",
    "    return 1. / (1. + np.exp(-x))\n"
   ]
  },
  {
   "cell_type": "code",
   "execution_count": 30,
   "metadata": {},
   "outputs": [
    {
     "data": {
      "text/plain": [
       "0.5"
      ]
     },
     "execution_count": 30,
     "metadata": {},
     "output_type": "execute_result"
    }
   ],
   "source": [
    "sigmoid(000)"
   ]
  },
  {
   "cell_type": "code",
   "execution_count": 36,
   "metadata": {},
   "outputs": [
    {
     "data": {
      "image/png": "[encoded data removed]",
      "text/plain": [
       "<Figure size 432x288 with 1 Axes>"
      ]
     },
     "metadata": {
      "needs_background": "light"
     },
     "output_type": "display_data"
    }
   ],
   "source": [
    "x = np.linspace(-10,10,5000)\n",
    "plt.plot(sigmoid(x))\n",
    "plt.grid()"
   ]
  },
  {
   "cell_type": "code",
   "execution_count": null,
   "metadata": {},
   "outputs": [],
   "source": [
    "W1 = np.linspace(-10,10,1000)\n",
    "x = [3,2]\n",
    "yy = []\n",
    "cost = []\n",
    "for w1 in W1:\n",
    "    w = [w1,w2]\n",
    "    z = problema(x,w)\n",
    "     = sigmoide(z)\n",
    "    yy.append(y)\n",
    "    e = (Y-y)**2 \n",
    "    error.append(e) \n",
    "plt.plot(W1,yy)\n",
    "plt.plot(W1,error)\n",
    "plt.grid()\n"
   ]
  }
 ],
 "metadata": {
  "kernelspec": {
   "display_name": "Python 3",
   "language": "python",
   "name": "python3"
  },
  "language_info": {
   "codemirror_mode": {
    "name": "ipython",
    "version": 3
   },
   "file_extension": ".py",
   "mimetype": "text/x-python",
   "name": "python",
   "nbconvert_exporter": "python",
   "pygments_lexer": "ipython3",
   "version": "3.8.5"
  }
 },
 "nbformat": 4,
 "nbformat_minor": 4
}
