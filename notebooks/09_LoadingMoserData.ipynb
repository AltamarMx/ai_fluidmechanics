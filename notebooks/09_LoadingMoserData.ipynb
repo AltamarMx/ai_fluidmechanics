{
 "cells": [
  {
   "cell_type": "code",
   "execution_count": 1,
   "metadata": {},
   "outputs": [],
   "source": [
    "import numpy as np"
   ]
  },
  {
   "cell_type": "code",
   "execution_count": 2,
   "metadata": {},
   "outputs": [],
   "source": [
    "data = np.loadtxt('../data/channel_Re590.txt',skiprows=8)\n"
   ]
  },
  {
   "cell_type": "code",
   "execution_count": 5,
   "metadata": {},
   "outputs": [
    {
     "data": {
      "text/plain": [
       "59"
      ]
     },
     "execution_count": 5,
     "metadata": {},
     "output_type": "execute_result"
    }
   ],
   "source": [
    "data.shape[0]"
   ]
  },
  {
   "cell_type": "code",
   "execution_count": 11,
   "metadata": {},
   "outputs": [],
   "source": [
    "tke = data[:, 0]\n",
    "eps = data[:, 1]\n",
    "grad_u_flat = data[:, 2:11]\n",
    "stresses_flat = data[:, 11:]\n",
    "\n",
    "# Reshape grad_u and stresses to num_points X 3 X 3 arrays\n",
    "num_points = data.shape[0]\n",
    "grad_u = np.zeros((num_points, 3, 3))\n",
    "stresses = np.zeros((num_points, 3, 3))\n",
    "for i in range(3):\n",
    "    for j in range(3):\n",
    "        grad_u[:, i, j] = grad_u_flat[:, i*3+j]\n",
    "        stresses[:, i, j] = stresses_flat[:, i*3+j]\n"
   ]
  },
  {
   "cell_type": "code",
   "execution_count": 12,
   "metadata": {},
   "outputs": [
    {
     "data": {
      "text/plain": [
       "array([[ 2.0821e-04,  4.8370e+02, -9.2901e-01],\n",
       "       [-3.5325e-07, -3.2383e-04,  2.3919e-05],\n",
       "       [ 4.6207e-08,  1.5474e-04,  1.4803e-06]])"
      ]
     },
     "execution_count": 12,
     "metadata": {},
     "output_type": "execute_result"
    }
   ],
   "source": [
    "grad_u[0]"
   ]
  },
  {
   "cell_type": "code",
   "execution_count": 17,
   "metadata": {},
   "outputs": [],
   "source": [
    "cap = 7\n",
    "eps = np.maximum(eps, 1e-8)\n",
    "tke_eps = tke / eps\n",
    "\n",
    "Sij = np.zeros((num_points, 3, 3))\n",
    "Rij = np.zeros((num_points, 3, 3))"
   ]
  },
  {
   "cell_type": "code",
   "execution_count": 21,
   "metadata": {},
   "outputs": [],
   "source": [
    "\n",
    "for i in range(num_points):\n",
    "    Sij[i, :, :] = 0.5 * (grad_u[i, :, :] + np.transpose(grad_u[i, :, :]))\n",
    "    Rij[i, :, :] = 0.5 * (grad_u[i, :, :] - np.transpose(grad_u[i, :, :]))\n"
   ]
  },
  {
   "cell_type": "code",
   "execution_count": 23,
   "metadata": {
    "scrolled": false
   },
   "outputs": [
    {
     "data": {
      "text/plain": [
       "array([[ 2.08210000e-04,  2.41850000e+02, -4.64504977e-01],\n",
       "       [ 2.41850000e+02, -3.23830000e-04,  8.93295000e-05],\n",
       "       [-4.64504977e-01,  8.93295000e-05,  1.48030000e-06]])"
      ]
     },
     "execution_count": 23,
     "metadata": {},
     "output_type": "execute_result"
    }
   ],
   "source": [
    "Sij[0]"
   ]
  },
  {
   "cell_type": "code",
   "execution_count": 24,
   "metadata": {},
   "outputs": [
    {
     "data": {
      "text/plain": [
       "array([[ 0.00000000e+00,  2.41850000e+02, -4.64505023e-01],\n",
       "       [-2.41850000e+02,  0.00000000e+00, -6.54105000e-05],\n",
       "       [ 4.64505023e-01,  6.54105000e-05,  0.00000000e+00]])"
      ]
     },
     "execution_count": 24,
     "metadata": {},
     "output_type": "execute_result"
    }
   ],
   "source": [
    "Rij[0]"
   ]
  },
  {
   "cell_type": "code",
   "execution_count": null,
   "metadata": {},
   "outputs": [],
   "source": [
    "\n",
    "# Sij[Sij > cap] = cap\n",
    "# Sij[Sij < -cap] = -cap\n",
    "# Rij[Rij > cap] = cap\n",
    "# Rij[Rij < -cap] = -cap\n",
    "\n",
    "# Because we enforced limits on maximum Sij values, we need to re-enforce trace of 0\n",
    "for i in range(num_points):\n",
    "    Sij[i, :, :] = Sij[i, :, :] - 1./3. * np.eye(3)*np.trace(Sij[i, :, :])\n",
    "# return Sij, Rij"
   ]
  }
 ],
 "metadata": {
  "kernelspec": {
   "display_name": "Python 3",
   "language": "python",
   "name": "python3"
  },
  "language_info": {
   "codemirror_mode": {
    "name": "ipython",
    "version": 3
   },
   "file_extension": ".py",
   "mimetype": "text/x-python",
   "name": "python",
   "nbconvert_exporter": "python",
   "pygments_lexer": "ipython3",
   "version": "3.8.5"
  }
 },
 "nbformat": 4,
 "nbformat_minor": 4
}
