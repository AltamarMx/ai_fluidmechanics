{
 "cells": [
  {
   "cell_type": "code",
   "execution_count": 1,
   "metadata": {},
   "outputs": [],
   "source": [
    "import numpy as np"
   ]
  },
  {
   "cell_type": "code",
   "execution_count": 2,
   "metadata": {},
   "outputs": [],
   "source": [
    "data = np.loadtxt('../data/channel_Re590.txt',skiprows=8)\n"
   ]
  },
  {
   "cell_type": "code",
   "execution_count": 3,
   "metadata": {},
   "outputs": [
    {
     "data": {
      "text/plain": [
       "59"
      ]
     },
     "execution_count": 3,
     "metadata": {},
     "output_type": "execute_result"
    }
   ],
   "source": [
    "data.shape[0]"
   ]
  },
  {
   "cell_type": "code",
   "execution_count": 4,
   "metadata": {},
   "outputs": [],
   "source": [
    "tke = data[:, 0]\n",
    "eps = data[:, 1]\n",
    "grad_u_flat = data[:, 2:11]\n",
    "stresses_flat = data[:, 11:]\n",
    "\n",
    "# Reshape grad_u and stresses to num_points X 3 X 3 arrays\n",
    "num_points = data.shape[0]\n",
    "grad_u = np.zeros((num_points, 3, 3))\n",
    "stresses = np.zeros((num_points, 3, 3))\n",
    "for i in range(3):\n",
    "    for j in range(3):\n",
    "        grad_u[:, i, j] = grad_u_flat[:, i*3+j]\n",
    "        stresses[:, i, j] = stresses_flat[:, i*3+j]\n"
   ]
  },
  {
   "cell_type": "code",
   "execution_count": 5,
   "metadata": {},
   "outputs": [
    {
     "data": {
      "text/plain": [
       "array([[ 2.0821e-04,  4.8370e+02, -9.2901e-01],\n",
       "       [-3.5325e-07, -3.2383e-04,  2.3919e-05],\n",
       "       [ 4.6207e-08,  1.5474e-04,  1.4803e-06]])"
      ]
     },
     "execution_count": 5,
     "metadata": {},
     "output_type": "execute_result"
    }
   ],
   "source": [
    "grad_u[0]"
   ]
  },
  {
   "cell_type": "code",
   "execution_count": 6,
   "metadata": {},
   "outputs": [],
   "source": [
    "cap = 7\n",
    "eps = np.maximum(eps, 1e-8)\n",
    "tke_eps = tke / eps\n",
    "\n",
    "Sij = np.zeros((num_points, 3, 3))\n",
    "Rij = np.zeros((num_points, 3, 3))"
   ]
  },
  {
   "cell_type": "code",
   "execution_count": 7,
   "metadata": {},
   "outputs": [],
   "source": [
    "\n",
    "for i in range(num_points):\n",
    "    Sij[i, :, :] = 0.5 * (grad_u[i, :, :] + np.transpose(grad_u[i, :, :]))\n",
    "    Rij[i, :, :] = 0.5 * (grad_u[i, :, :] - np.transpose(grad_u[i, :, :]))\n"
   ]
  },
  {
   "cell_type": "code",
   "execution_count": 8,
   "metadata": {
    "scrolled": false
   },
   "outputs": [
    {
     "data": {
      "text/plain": [
       "array([[ 2.08210000e-04,  2.41850000e+02, -4.64504977e-01],\n",
       "       [ 2.41850000e+02, -3.23830000e-04,  8.93295000e-05],\n",
       "       [-4.64504977e-01,  8.93295000e-05,  1.48030000e-06]])"
      ]
     },
     "execution_count": 8,
     "metadata": {},
     "output_type": "execute_result"
    }
   ],
   "source": [
    "Sij[0]"
   ]
  },
  {
   "cell_type": "code",
   "execution_count": 9,
   "metadata": {},
   "outputs": [
    {
     "data": {
      "text/plain": [
       "array([[ 0.00000000e+00,  2.41850000e+02, -4.64505023e-01],\n",
       "       [-2.41850000e+02,  0.00000000e+00, -6.54105000e-05],\n",
       "       [ 4.64505023e-01,  6.54105000e-05,  0.00000000e+00]])"
      ]
     },
     "execution_count": 9,
     "metadata": {},
     "output_type": "execute_result"
    }
   ],
   "source": [
    "Rij[0]"
   ]
  },
  {
   "attachments": {
    "image.png": {
     "image/png": "[encoded data removed]"
    }
   },
   "cell_type": "markdown",
   "metadata": {},
   "source": [
    "![image.png](attachment:image.png)"
   ]
  },
  {
   "cell_type": "code",
   "execution_count": 10,
   "metadata": {},
   "outputs": [],
   "source": [
    "num_points = Sij.shape[0]\n",
    "num_invariants = 5\n",
    "invariants = np.zeros((num_points, num_invariants))\n",
    "for i in range(num_points):\n",
    "    invariants[i, 0] = np.trace(np.dot(Sij[i, :, :], Sij[i, :, :]))\n",
    "    invariants[i, 1] = np.trace(np.dot(Rij[i, :, :], Rij[i, :, :]))\n",
    "    invariants[i, 2] = np.trace(np.dot(Sij[i, :, :], np.dot(Sij[i, :, :], Sij[i, :, :])))\n",
    "    invariants[i, 3] = np.trace(np.dot(Rij[i, :, :], np.dot(Rij[i, :, :], Sij[i, :, :])))\n",
    "    invariants[i, 4] = np.trace(np.dot(np.dot(Rij[i, :, :], Rij[i, :, :]), np.dot(Sij[i, :, :], Sij[i, :, :])))"
   ]
  },
  {
   "cell_type": "code",
   "execution_count": 16,
   "metadata": {},
   "outputs": [
    {
     "data": {
      "text/plain": [
       "array([[ 5.84916382e+04, -2.80041910e-02,  2.15069374e-02],\n",
       "       [-2.80041910e-02,  5.84914224e+04, -1.12340529e+02],\n",
       "       [ 2.15069374e-02, -1.12340529e+02,  2.15764882e-01]])"
      ]
     },
     "execution_count": 16,
     "metadata": {},
     "output_type": "execute_result"
    }
   ],
   "source": [
    "np.dot(Sij[0, :, :], Sij[0, :, :])"
   ]
  },
  {
   "cell_type": "code",
   "execution_count": 49,
   "metadata": {},
   "outputs": [],
   "source": [
    "num_tensor_basis = 10\n",
    "T = np.zeros((num_points, num_tensor_basis, 3, 3))\n",
    "for i in range(num_points):\n",
    "    sij = Sij[i, :, :]\n",
    "    rij = Rij[i, :, :]\n",
    "    T[i, 0, :, :] = sij\n",
    "    T[i, 1, :, :] = np.dot(sij, rij) - np.dot(rij, sij)\n",
    "    T[i, 2, :, :] = np.dot(sij, sij) - 1./3.*np.eye(3)*np.trace(np.dot(sij, sij))\n",
    "    T[i, 3, :, :] = np.dot(rij, rij) - 1./3.*np.eye(3)*np.trace(np.dot(rij, rij))\n",
    "    T[i, 4, :, :] = np.dot(rij, np.dot(sij, sij)) - np.dot(np.dot(sij, sij), rij)\n",
    "    T[i, 5, :, :] = np.dot(rij, np.dot(rij, sij)) \\\n",
    "                    + np.dot(sij, np.dot(rij, rij)) \\\n",
    "                    - 2./3.*np.eye(3)*np.trace(np.dot(sij, np.dot(rij, rij)))\n",
    "    T[i, 6, :, :] = np.dot(np.dot(rij, sij), np.dot(rij, rij)) - np.dot(np.dot(rij, rij), np.dot(sij, rij))\n",
    "    T[i, 7, :, :] = np.dot(np.dot(sij, rij), np.dot(sij, sij)) - np.dot(np.dot(sij, sij), np.dot(rij, sij))\n",
    "    T[i, 8, :, :] = np.dot(np.dot(rij, rij), np.dot(sij, sij)) \\\n",
    "                    + np.dot(np.dot(sij, sij), np.dot(rij, rij)) \\\n",
    "                    - 2./3.*np.eye(3)*np.trace(np.dot(np.dot(sij, sij), np.dot(rij, rij)))\n",
    "    T[i, 9, :, :] = np.dot(np.dot(rij, np.dot(sij, sij)), np.dot(rij, rij)) \\\n",
    "                    - np.dot(np.dot(rij, np.dot(rij, sij)), np.dot(sij, rij))\n",
    "    # Enforce zero trace for anisotropy\n",
    "    for j in range(num_tensor_basis):\n",
    "        T[i, j, :, :] = T[i, j, :, :] - 1./3.*np.eye(3)*np.trace(T[i, j, :, :])"
   ]
  },
  {
   "cell_type": "code",
   "execution_count": 47,
   "metadata": {},
   "outputs": [],
   "source": [
    "# T[0,0]"
   ]
  },
  {
   "cell_type": "code",
   "execution_count": 48,
   "metadata": {},
   "outputs": [],
   "source": [
    "# np.trace(T[0,0])"
   ]
  },
  {
   "cell_type": "code",
   "execution_count": null,
   "metadata": {},
   "outputs": [],
   "source": []
  },
  {
   "cell_type": "code",
   "execution_count": null,
   "metadata": {},
   "outputs": [],
   "source": []
  },
  {
   "cell_type": "code",
   "execution_count": null,
   "metadata": {},
   "outputs": [],
   "source": []
  }
 ],
 "metadata": {
  "kernelspec": {
   "display_name": "Python 3",
   "language": "python",
   "name": "python3"
  },
  "language_info": {
   "codemirror_mode": {
    "name": "ipython",
    "version": 3
   },
   "file_extension": ".py",
   "mimetype": "text/x-python",
   "name": "python",
   "nbconvert_exporter": "python",
   "pygments_lexer": "ipython3",
   "version": "3.9.7"
  }
 },
 "nbformat": 4,
 "nbformat_minor": 4
}
