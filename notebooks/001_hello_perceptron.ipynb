{
  "nbformat": 4,
  "nbformat_minor": 0,
  "metadata": {
    "colab": {
      "name": "001_hello_perceptron.ipynb",
      "provenance": [],
      "authorship_tag": "ABX9TyNMOuaa0n4aYbr+NBsJBGx+",
      "include_colab_link": true
    },
    "kernelspec": {
      "name": "python3",
      "display_name": "Python 3"
    },
    "language_info": {
      "name": "python"
    }
  },
  "cells": [
    {
      "cell_type": "markdown",
      "metadata": {
        "id": "view-in-github",
        "colab_type": "text"
      },
      "source": [
        "<a href=\"https://colab.research.google.com/github/AltamarMx/ai_fluidmechanics/blob/main/notebooks/001_hello_perceptron.ipynb\" target=\"_parent\"><img src=\"https://colab.research.google.com/assets/colab-badge.svg\" alt=\"Open In Colab\"/></a>"
      ]
    },
    {
      "cell_type": "code",
      "metadata": {
        "id": "SHG2BHWOoUiw"
      },
      "source": [
        "import numpy as np\n",
        "import matplotlib.pyplot as plt"
      ],
      "execution_count": 1,
      "outputs": []
    },
    {
      "cell_type": "code",
      "metadata": {
        "id": "JCCqwC2Or5Is"
      },
      "source": [
        "import tensorflow as tf\n",
        "from tensorflow import keras\n",
        "from tensorflow.keras import layers\n"
      ],
      "execution_count": 2,
      "outputs": []
    },
    {
      "cell_type": "code",
      "metadata": {
        "id": "3ZAqD8YBol6t"
      },
      "source": [
        "x = [5,2]\n",
        "Y = 0.71\n",
        "\n",
        "w = [0,-1]\n",
        "LR = 1"
      ],
      "execution_count": 3,
      "outputs": []
    },
    {
      "cell_type": "code",
      "metadata": {
        "id": "qrCzHCGxoun2"
      },
      "source": [
        "def problem(x,w):\n",
        "  return np.dot(x,w)\n",
        "\n",
        "def sigmoid(z):\n",
        "  return 1 / (1 + np.exp(-z))\n",
        "\n",
        "def cost(h, Y):\n",
        "  return (h-Y)**2\n",
        "\n",
        "def dC(h,Y):\n",
        "  return 2*(h-Y)*Y*(1-Y)"
      ],
      "execution_count": 4,
      "outputs": []
    },
    {
      "cell_type": "code",
      "metadata": {
        "colab": {
          "base_uri": "https://localhost:8080/"
        },
        "id": "rWcmdZrco3UW",
        "outputId": "8244b208-3320-4cd1-82e1-958235383228"
      },
      "source": [
        " z = problem(x,w)\n",
        " h = sigmoid(z)\n",
        " C = cost(h,Y)\n",
        " w = w - LR* dC(h,Y)\n",
        " w"
      ],
      "execution_count": 5,
      "outputs": [
        {
          "output_type": "execute_result",
          "data": {
            "text/plain": [
              "array([ 0.24329024, -0.75670976])"
            ]
          },
          "metadata": {
            "tags": []
          },
          "execution_count": 5
        }
      ]
    },
    {
      "cell_type": "code",
      "metadata": {
        "colab": {
          "base_uri": "https://localhost:8080/"
        },
        "id": "URpqZxI2o_in",
        "outputId": "d2bc6fb5-a277-478c-d466-348cde15b38d"
      },
      "source": [
        "x = [5,2]\n",
        "Y = 0.71\n",
        "w = [0,-1]\n",
        "\n",
        "LR = .100\n",
        "epochs = 1000\n",
        "\n",
        "C_h = []\n",
        "\n",
        "for epoch in range(epochs):\n",
        "  z = problem(x,w)\n",
        "  h = sigmoid(z)\n",
        "  C = cost(h,Y)\n",
        "  C_h.append(C)\n",
        "  w = w - LR* dC(h,Y)\n",
        "\n",
        "\n",
        "sigmoid(problem(x,w))"
      ],
      "execution_count": 6,
      "outputs": [
        {
          "output_type": "execute_result",
          "data": {
            "text/plain": [
              "0.7099999999999993"
            ]
          },
          "metadata": {
            "tags": []
          },
          "execution_count": 6
        }
      ]
    },
    {
      "cell_type": "code",
      "metadata": {
        "colab": {
          "base_uri": "https://localhost:8080/",
          "height": 283
        },
        "id": "8XZIFScbrMf_",
        "outputId": "f3c832c0-bd4b-4ef8-8834-31f8663d93d7"
      },
      "source": [
        "plt.plot(C_h,'ro')"
      ],
      "execution_count": 7,
      "outputs": [
        {
          "output_type": "execute_result",
          "data": {
            "text/plain": [
              "[<matplotlib.lines.Line2D at 0x7f10a3c7aad0>]"
            ]
          },
          "metadata": {
            "tags": []
          },
          "execution_count": 7
        },
        {
          "output_type": "display_data",
          "data": {
            "image/png": "[encoded data removed]",
            "text/plain": [
              "<Figure size 432x288 with 1 Axes>"
            ]
          },
          "metadata": {
            "tags": [],
            "needs_background": "light"
          }
        }
      ]
    },
    {
      "cell_type": "code",
      "metadata": {
        "id": "kO4V8Gp8v0Eq"
      },
      "source": [
        "import tensorflow as tf\n",
        "from tensorflow import keras\n",
        "from tensorflow.keras import layers\n"
      ],
      "execution_count": 8,
      "outputs": []
    },
    {
      "cell_type": "code",
      "metadata": {
        "id": "_eB7aXeksEqd"
      },
      "source": [
        "x_train = np.array([[5,2]])\n",
        "y_train = np.array([[0.71]])"
      ],
      "execution_count": 9,
      "outputs": []
    },
    {
      "cell_type": "code",
      "metadata": {
        "id": "-8jIyI39vSnP"
      },
      "source": [
        "model = keras.Sequential()\n",
        "model.add(keras.Input(shape=2))\n",
        "model.add(layers.Dense(1,activation='sigmoid',use_bias=False))\n",
        "model.compile(loss='MSE',optimizer=keras.optimizers.SGD(learning_rate=.1))\n",
        "\n",
        "problem = model.fit(x_train,y_train,epochs=1000,verbose=False)"
      ],
      "execution_count": 15,
      "outputs": []
    },
    {
      "cell_type": "code",
      "metadata": {
        "colab": {
          "base_uri": "https://localhost:8080/",
          "height": 285
        },
        "id": "rdwZjTiHwazA",
        "outputId": "c6ba5c96-d217-456e-e46e-cfe87a10ae3b"
      },
      "source": [
        "plt.plot(problem.history['loss'])"
      ],
      "execution_count": 16,
      "outputs": [
        {
          "output_type": "execute_result",
          "data": {
            "text/plain": [
              "[<matplotlib.lines.Line2D at 0x7f109fd6b210>]"
            ]
          },
          "metadata": {
            "tags": []
          },
          "execution_count": 16
        },
        {
          "output_type": "display_data",
          "data": {
            "image/png": "[encoded data removed]",
            "text/plain": [
              "<Figure size 432x288 with 1 Axes>"
            ]
          },
          "metadata": {
            "tags": [],
            "needs_background": "light"
          }
        }
      ]
    },
    {
      "cell_type": "code",
      "metadata": {
        "colab": {
          "base_uri": "https://localhost:8080/"
        },
        "id": "CpRVgQIaxpYU",
        "outputId": "90477cf9-8545-4fbf-9665-02e4c4507b56"
      },
      "source": [
        "model.predict(x_train)\n"
      ],
      "execution_count": 17,
      "outputs": [
        {
          "output_type": "execute_result",
          "data": {
            "text/plain": [
              "array([[0.7099999]], dtype=float32)"
            ]
          },
          "metadata": {
            "tags": []
          },
          "execution_count": 17
        }
      ]
    },
    {
      "cell_type": "code",
      "metadata": {
        "colab": {
          "base_uri": "https://localhost:8080/"
        },
        "id": "nU8l5q1Mxxe0",
        "outputId": "476750f5-d028-4330-cf4a-f12b3bb94242"
      },
      "source": [
        "model.weights"
      ],
      "execution_count": 18,
      "outputs": [
        {
          "output_type": "execute_result",
          "data": {
            "text/plain": [
              "[<tf.Variable 'dense_1/kernel:0' shape=(2, 1) dtype=float32, numpy=\n",
              " array([[ 0.36533323],\n",
              "        [-0.46564126]], dtype=float32)>]"
            ]
          },
          "metadata": {
            "tags": []
          },
          "execution_count": 18
        }
      ]
    },
    {
      "cell_type": "code",
      "metadata": {
        "colab": {
          "base_uri": "https://localhost:8080/"
        },
        "id": "Gp18wGidzqlj",
        "outputId": "43b4977e-5940-477e-e451-b4f49d9cebcb"
      },
      "source": [
        "w"
      ],
      "execution_count": 19,
      "outputs": [
        {
          "output_type": "execute_result",
          "data": {
            "text/plain": [
              "array([ 0.41362629, -0.58637371])"
            ]
          },
          "metadata": {
            "tags": []
          },
          "execution_count": 19
        }
      ]
    },
    {
      "cell_type": "code",
      "metadata": {
        "id": "tUBFlsDqz7_V"
      },
      "source": [
        ""
      ],
      "execution_count": 14,
      "outputs": []
    }
  ]
}