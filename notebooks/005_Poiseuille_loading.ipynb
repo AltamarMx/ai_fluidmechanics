{
  "nbformat": 4,
  "nbformat_minor": 0,
  "metadata": {
    "colab": {
      "name": "005_Poiseuille_loading.ipynb",
      "provenance": [],
      "authorship_tag": "ABX9TyPOA+m9s3c9IT+Wvsp00cLx",
      "include_colab_link": true
    },
    "kernelspec": {
      "name": "python3",
      "display_name": "Python 3"
    },
    "language_info": {
      "name": "python"
    }
  },
  "cells": [
    {
      "cell_type": "markdown",
      "metadata": {
        "id": "view-in-github",
        "colab_type": "text"
      },
      "source": [
        "<a href=\"https://colab.research.google.com/github/AltamarMx/ai_fluidmechanics/blob/main/notebooks/005_Poiseuille_loading.ipynb\" target=\"_parent\"><img src=\"https://colab.research.google.com/assets/colab-badge.svg\" alt=\"Open In Colab\"/></a>"
      ]
    },
    {
      "cell_type": "code",
      "metadata": {
        "id": "daswBSZn7IXL"
      },
      "source": [
        "import tensorflow as tf\n",
        "import tensorflow.keras as keras\n",
        "from tensorflow.keras import layers\n",
        "import matplotlib.pyplot as plt\n",
        "\n",
        "import tensorflow_hub as hub\n",
        "import numpy as np\n"
      ],
      "execution_count": 1,
      "outputs": []
    },
    {
      "cell_type": "code",
      "metadata": {
        "colab": {
          "base_uri": "https://localhost:8080/"
        },
        "id": "hL1bITZH7Ux8",
        "outputId": "fb14fc50-9c44-40b7-ff2a-b5b6f136f338"
      },
      "source": [
        "from google.colab import drive\n",
        "drive.mount('/content/drive/')"
      ],
      "execution_count": 2,
      "outputs": [
        {
          "output_type": "stream",
          "name": "stdout",
          "text": [
            "Mounted at /content/drive/\n"
          ]
        }
      ]
    },
    {
      "cell_type": "code",
      "metadata": {
        "colab": {
          "base_uri": "https://localhost:8080/"
        },
        "id": "mUEWeNbm7Y3k",
        "outputId": "1ee28925-9c1c-4081-e172-415278dc9cbb"
      },
      "source": [
        "!ls drive/MyDrive/Poiseuille/"
      ],
      "execution_count": 3,
      "outputs": [
        {
          "output_type": "stream",
          "name": "stdout",
          "text": [
            "data  h5\n"
          ]
        }
      ]
    },
    {
      "cell_type": "code",
      "metadata": {
        "id": "xDtMxaLN7kjV"
      },
      "source": [
        "Re      = np.genfromtxt('drive/MyDrive/Poiseuille/data/Re.txt')\n",
        "profile = np.genfromtxt(\"./drive/MyDrive/Poiseuille/data/Profile.txt\")\n",
        "r       = np.genfromtxt(\"./drive/MyDrive/Poiseuille/data/r.txt\")\n",
        "X_train = np.genfromtxt(\"./drive/MyDrive/Poiseuille/data/X_train.txt\")\n",
        "y_train = np.genfromtxt(\"./drive/MyDrive/Poiseuille/data/y_train.txt\")\n",
        "X_test  = np.genfromtxt(\"./drive/MyDrive/Poiseuille/data/X_test.txt\")\n",
        "y_test  = np.genfromtxt(\"./drive/MyDrive/Poiseuille/data/y_test.txt\")"
      ],
      "execution_count": 6,
      "outputs": []
    },
    {
      "cell_type": "code",
      "metadata": {
        "id": "H265cwOk7wgO"
      },
      "source": [
        "scaler_profile  = np.max(profile)\n",
        "scaler_reynolds = np.max(Re)\n",
        "profile_scaled  = profile/scaler_profile\n",
        "Re_scaled       = Re/scaler_reynolds"
      ],
      "execution_count": 9,
      "outputs": []
    },
    {
      "cell_type": "code",
      "metadata": {
        "colab": {
          "base_uri": "https://localhost:8080/"
        },
        "id": "jrZYC0Sx8Moa",
        "outputId": "a45c6dc3-e6d5-4beb-bd9d-e1c7d9b2b49a"
      },
      "source": [
        "file = 'drive/MyDrive/Poiseuille/h5/Poiseuille.h5'\n",
        "model = tf.keras.models.load_model(\n",
        "    file,\n",
        "    custom_objects={'KerasLayer':hub.KerasLayer}\n",
        ")\n",
        "model.summary()"
      ],
      "execution_count": 11,
      "outputs": [
        {
          "output_type": "stream",
          "name": "stdout",
          "text": [
            "Model: \"sequential_1\"\n",
            "_________________________________________________________________\n",
            "Layer (type)                 Output Shape              Param #   \n",
            "=================================================================\n",
            "dense_2 (Dense)              (None, 20)                40        \n",
            "_________________________________________________________________\n",
            "dense_3 (Dense)              (None, 10)                200       \n",
            "=================================================================\n",
            "Total params: 240\n",
            "Trainable params: 240\n",
            "Non-trainable params: 0\n",
            "_________________________________________________________________\n"
          ]
        }
      ]
    },
    {
      "cell_type": "code",
      "metadata": {
        "colab": {
          "base_uri": "https://localhost:8080/",
          "height": 293
        },
        "id": "E9fXgn-48pB2",
        "outputId": "902355df-010c-4f5d-f4c9-e582a2f6994b"
      },
      "source": [
        "problem = model.fit(X_train,\n",
        "                    y_train,\n",
        "                    epochs=500,\n",
        "                    verbose=False)\n",
        "plt.plot(problem.history['loss'])"
      ],
      "execution_count": 13,
      "outputs": [
        {
          "output_type": "execute_result",
          "data": {
            "text/plain": [
              "[<matplotlib.lines.Line2D at 0x7fdd5769e610>]"
            ]
          },
          "metadata": {},
          "execution_count": 13
        },
        {
          "output_type": "display_data",
          "data": {
            "image/png": "[encoded data removed]",
            "text/plain": [
              "<Figure size 432x288 with 1 Axes>"
            ]
          },
          "metadata": {
            "needs_background": "light"
          }
        }
      ]
    },
    {
      "cell_type": "code",
      "metadata": {
        "colab": {
          "base_uri": "https://localhost:8080/",
          "height": 265
        },
        "id": "yLtSFBM49HcK",
        "outputId": "0dd30a7f-0be2-4d40-8a70-d7e8e0841e7d"
      },
      "source": [
        "p_profile = model.predict([40]/scaler_reynolds)\n",
        "fig, ax = plt.subplots(figsize=(10,4))\n",
        "ax.plot(r,p_profile.flatten()*scaler_profile ,'r-o')\n",
        "ax.grid()\n",
        "# ax.plot(r,profile[-1] ,'k-')"
      ],
      "execution_count": 37,
      "outputs": [
        {
          "output_type": "display_data",
          "data": {
            "image/png": "[encoded data removed]",
            "text/plain": [
              "<Figure size 720x288 with 1 Axes>"
            ]
          },
          "metadata": {
            "needs_background": "light"
          }
        }
      ]
    },
    {
      "cell_type": "code",
      "metadata": {
        "colab": {
          "base_uri": "https://localhost:8080/"
        },
        "id": "ISwzu-9M9WRu",
        "outputId": "679b68b6-1e14-4627-bb6c-20e7f5bf34ab"
      },
      "source": [
        "model.evaluate(X_test,y_test,return_dict=True,batch_size=1)"
      ],
      "execution_count": 24,
      "outputs": [
        {
          "output_type": "stream",
          "name": "stdout",
          "text": [
            "250/250 [==============================] - 0s 2ms/step - loss: 5.2580e-05\n"
          ]
        },
        {
          "output_type": "execute_result",
          "data": {
            "text/plain": [
              "{'loss': 5.2580271585611627e-05}"
            ]
          },
          "metadata": {},
          "execution_count": 24
        }
      ]
    },
    {
      "cell_type": "code",
      "metadata": {
        "colab": {
          "base_uri": "https://localhost:8080/"
        },
        "id": "q3YRs3OX-P-G",
        "outputId": "fddd9858-d140-4188-ef6a-8e0005cc75b5"
      },
      "source": [
        "model.evaluate(X_train,y_train, batch_size=1)"
      ],
      "execution_count": 19,
      "outputs": [
        {
          "output_type": "stream",
          "name": "stdout",
          "text": [
            "750/750 [==============================] - 1s 2ms/step - loss: 5.4955e-05\n"
          ]
        },
        {
          "output_type": "execute_result",
          "data": {
            "text/plain": [
              "5.495456207427196e-05"
            ]
          },
          "metadata": {},
          "execution_count": 19
        }
      ]
    },
    {
      "cell_type": "markdown",
      "metadata": {
        "id": "oBdhxdAb-2eX"
      },
      "source": [
        "[evaluate](https://www.tensorflow.org/api_docs/python/tf/keras/Model#evaluate)"
      ]
    },
    {
      "cell_type": "code",
      "metadata": {
        "colab": {
          "base_uri": "https://localhost:8080/"
        },
        "id": "HWpj0S_o-3X_",
        "outputId": "839d1cff-1d48-4dd4-9342-37b480b50398"
      },
      "source": [
        "X_test.shape"
      ],
      "execution_count": 20,
      "outputs": [
        {
          "output_type": "execute_result",
          "data": {
            "text/plain": [
              "(250,)"
            ]
          },
          "metadata": {},
          "execution_count": 20
        }
      ]
    },
    {
      "cell_type": "code",
      "metadata": {
        "colab": {
          "base_uri": "https://localhost:8080/"
        },
        "id": "Y4uvSzab_6Uw",
        "outputId": "ee8b5372-206f-4a2c-a8a6-184a36dcce9b"
      },
      "source": [
        "y_test.shape"
      ],
      "execution_count": 22,
      "outputs": [
        {
          "output_type": "execute_result",
          "data": {
            "text/plain": [
              "(250, 10)"
            ]
          },
          "metadata": {},
          "execution_count": 22
        }
      ]
    },
    {
      "cell_type": "code",
      "metadata": {
        "id": "K3kpWyUj_9IH"
      },
      "source": [
        "mse = mean((X - Y)**2)"
      ],
      "execution_count": null,
      "outputs": []
    },
    {
      "cell_type": "code",
      "metadata": {
        "id": "Y2MbjGKeBXI0"
      },
      "source": [
        "X = model.predict(X_test)\n",
        "Y = y_test"
      ],
      "execution_count": 29,
      "outputs": []
    },
    {
      "cell_type": "code",
      "metadata": {
        "colab": {
          "base_uri": "https://localhost:8080/"
        },
        "id": "wem-g6grDLzD",
        "outputId": "08a4b482-bc31-482c-916a-06c9f53245a4"
      },
      "source": [
        "MSE =np.mean( (X-Y)**2)\n",
        "MSE"
      ],
      "execution_count": 32,
      "outputs": [
        {
          "output_type": "execute_result",
          "data": {
            "text/plain": [
              "5.258028728418321e-05"
            ]
          },
          "metadata": {},
          "execution_count": 32
        }
      ]
    },
    {
      "cell_type": "code",
      "metadata": {
        "id": "BVXVw85SBbow"
      },
      "source": [
        "def MSE(X, Y):\n",
        "     return np.square(X - Y).mean()\n"
      ],
      "execution_count": 30,
      "outputs": []
    },
    {
      "cell_type": "code",
      "metadata": {
        "colab": {
          "base_uri": "https://localhost:8080/"
        },
        "id": "GRE9ikcSBpOt",
        "outputId": "876e8e7c-2b07-4e1b-b111-504ef9e8527c"
      },
      "source": [
        "MSE(X,Y)"
      ],
      "execution_count": 31,
      "outputs": [
        {
          "output_type": "execute_result",
          "data": {
            "text/plain": [
              "5.258028728418321e-05"
            ]
          },
          "metadata": {},
          "execution_count": 31
        }
      ]
    },
    {
      "cell_type": "code",
      "metadata": {
        "colab": {
          "base_uri": "https://localhost:8080/"
        },
        "id": "2tOBwDwZDGWf",
        "outputId": "04e30350-7f0d-477a-bf6c-de6ac4984337"
      },
      "source": [
        "((np.mean((X - Y)**2))**0.5)*scaler_profile\n"
      ],
      "execution_count": 35,
      "outputs": [
        {
          "output_type": "execute_result",
          "data": {
            "text/plain": [
              "0.0017904263223435025"
            ]
          },
          "metadata": {},
          "execution_count": 35
        }
      ]
    },
    {
      "cell_type": "markdown",
      "metadata": {
        "id": "J-7dZ18UEjzY"
      },
      "source": [
        "## What could you do better to solve this problem? "
      ]
    },
    {
      "cell_type": "code",
      "metadata": {
        "id": "IXj9GTYrDbwz"
      },
      "source": [
        ""
      ],
      "execution_count": null,
      "outputs": []
    }
  ]
}