{
  "nbformat": 4,
  "nbformat_minor": 0,
  "metadata": {
    "colab": {
      "name": "erm_001_rotations.ipynb",
      "provenance": [],
      "authorship_tag": "ABX9TyPwGou4jgEwzx8Ids3Erjzf",
      "include_colab_link": true
    },
    "kernelspec": {
      "name": "python3",
      "display_name": "Python 3"
    },
    "language_info": {
      "name": "python"
    },
    "widgets": {
      "application/vnd.jupyter.widget-state+json": {
        "bb46d8a262e34d21b1167d13699f2b2a": {
          "model_module": "@jupyter-widgets/controls",
          "model_name": "VBoxModel",
          "model_module_version": "1.5.0",
          "state": {
            "_view_name": "VBoxView",
            "_dom_classes": [
              "widget-interact"
            ],
            "_model_name": "VBoxModel",
            "_view_module": "@jupyter-widgets/controls",
            "_model_module_version": "1.5.0",
            "_view_count": null,
            "_view_module_version": "1.5.0",
            "box_style": "",
            "layout": "IPY_MODEL_30db9a32668641fbbe1e3c6e39d51e95",
            "_model_module": "@jupyter-widgets/controls",
            "children": [
              "IPY_MODEL_7cf3151581b3433d972a4b55cc4340fc",
              "IPY_MODEL_a371572101cf46cfbf57a31f8afd82be",
              "IPY_MODEL_0e4786deca1e40a09156a268d7a09be4",
              "IPY_MODEL_6c0f6d9e5b9a4e60aa58d3df777d9e09"
            ]
          }
        },
        "30db9a32668641fbbe1e3c6e39d51e95": {
          "model_module": "@jupyter-widgets/base",
          "model_name": "LayoutModel",
          "model_module_version": "1.2.0",
          "state": {
            "_view_name": "LayoutView",
            "grid_template_rows": null,
            "right": null,
            "justify_content": null,
            "_view_module": "@jupyter-widgets/base",
            "overflow": null,
            "_model_module_version": "1.2.0",
            "_view_count": null,
            "flex_flow": null,
            "width": null,
            "min_width": null,
            "border": null,
            "align_items": null,
            "bottom": null,
            "_model_module": "@jupyter-widgets/base",
            "top": null,
            "grid_column": null,
            "overflow_y": null,
            "overflow_x": null,
            "grid_auto_flow": null,
            "grid_area": null,
            "grid_template_columns": null,
            "flex": null,
            "_model_name": "LayoutModel",
            "justify_items": null,
            "grid_row": null,
            "max_height": null,
            "align_content": null,
            "visibility": null,
            "align_self": null,
            "height": null,
            "min_height": null,
            "padding": null,
            "grid_auto_rows": null,
            "grid_gap": null,
            "max_width": null,
            "order": null,
            "_view_module_version": "1.2.0",
            "grid_template_areas": null,
            "object_position": null,
            "object_fit": null,
            "grid_auto_columns": null,
            "margin": null,
            "display": null,
            "left": null
          }
        },
        "7cf3151581b3433d972a4b55cc4340fc": {
          "model_module": "@jupyter-widgets/controls",
          "model_name": "IntSliderModel",
          "model_module_version": "1.5.0",
          "state": {
            "_view_name": "IntSliderView",
            "style": "IPY_MODEL_6eae7f9146c742e7960108fc41927197",
            "_dom_classes": [],
            "description": "thetax",
            "step": 15,
            "_model_name": "IntSliderModel",
            "orientation": "horizontal",
            "max": 180,
            "_view_module": "@jupyter-widgets/controls",
            "_model_module_version": "1.5.0",
            "value": 0,
            "_view_count": null,
            "disabled": false,
            "_view_module_version": "1.5.0",
            "min": -180,
            "continuous_update": true,
            "readout_format": "d",
            "description_tooltip": null,
            "readout": true,
            "_model_module": "@jupyter-widgets/controls",
            "layout": "IPY_MODEL_4de2814d96974eeab733c78b8b149e1b"
          }
        },
        "a371572101cf46cfbf57a31f8afd82be": {
          "model_module": "@jupyter-widgets/controls",
          "model_name": "IntSliderModel",
          "model_module_version": "1.5.0",
          "state": {
            "_view_name": "IntSliderView",
            "style": "IPY_MODEL_3818ac72e87b465db8cc56d5dac0d0d0",
            "_dom_classes": [],
            "description": "thetay",
            "step": 15,
            "_model_name": "IntSliderModel",
            "orientation": "horizontal",
            "max": 180,
            "_view_module": "@jupyter-widgets/controls",
            "_model_module_version": "1.5.0",
            "value": 0,
            "_view_count": null,
            "disabled": false,
            "_view_module_version": "1.5.0",
            "min": -180,
            "continuous_update": true,
            "readout_format": "d",
            "description_tooltip": null,
            "readout": true,
            "_model_module": "@jupyter-widgets/controls",
            "layout": "IPY_MODEL_b97405f405ba4ed7a7f13acf16cabe88"
          }
        },
        "0e4786deca1e40a09156a268d7a09be4": {
          "model_module": "@jupyter-widgets/controls",
          "model_name": "IntSliderModel",
          "model_module_version": "1.5.0",
          "state": {
            "_view_name": "IntSliderView",
            "style": "IPY_MODEL_556a229cd1a841f58a0ce518e4ca0184",
            "_dom_classes": [],
            "description": "thetaz",
            "step": 15,
            "_model_name": "IntSliderModel",
            "orientation": "horizontal",
            "max": 180,
            "_view_module": "@jupyter-widgets/controls",
            "_model_module_version": "1.5.0",
            "value": 30,
            "_view_count": null,
            "disabled": false,
            "_view_module_version": "1.5.0",
            "min": -180,
            "continuous_update": true,
            "readout_format": "d",
            "description_tooltip": null,
            "readout": true,
            "_model_module": "@jupyter-widgets/controls",
            "layout": "IPY_MODEL_4fa5bfbda9044e31b4f1bd0e6745ece2"
          }
        },
        "6c0f6d9e5b9a4e60aa58d3df777d9e09": {
          "model_module": "@jupyter-widgets/output",
          "model_name": "OutputModel",
          "model_module_version": "1.0.0",
          "state": {
            "_view_name": "OutputView",
            "msg_id": "",
            "_dom_classes": [],
            "_model_name": "OutputModel",
            "outputs": [
              {
                "output_type": "stream",
                "text": [
                  "Matriz de rotación:\n",
                  "\n",
                  "[[ 0.866 -0.5    0.   ]\n",
                  " [ 0.5    0.866  0.   ]\n",
                  " [ 0.     0.     1.   ]]\n",
                  "\n",
                  "\n",
                  "x  =  [1.732 1.    0.   ]\n",
                  "x' =  [2. 0. 0.]\n"
                ],
                "name": "stdout"
              },
              {
                "output_type": "display_data",
                "data": {
                  "image/png": "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\n",
                  "text/plain": [
                    "<Figure size 432x288 with 1 Axes>"
                  ]
                },
                "metadata": {
                  "needs_background": "light"
                }
              }
            ],
            "_view_module": "@jupyter-widgets/output",
            "_model_module_version": "1.0.0",
            "_view_count": null,
            "_view_module_version": "1.0.0",
            "layout": "IPY_MODEL_4a674e6133b44c718b4c714796bdc26e",
            "_model_module": "@jupyter-widgets/output"
          }
        },
        "6eae7f9146c742e7960108fc41927197": {
          "model_module": "@jupyter-widgets/controls",
          "model_name": "SliderStyleModel",
          "model_module_version": "1.5.0",
          "state": {
            "_view_name": "StyleView",
            "handle_color": null,
            "_model_name": "SliderStyleModel",
            "description_width": "",
            "_view_module": "@jupyter-widgets/base",
            "_model_module_version": "1.5.0",
            "_view_count": null,
            "_view_module_version": "1.2.0",
            "_model_module": "@jupyter-widgets/controls"
          }
        },
        "4de2814d96974eeab733c78b8b149e1b": {
          "model_module": "@jupyter-widgets/base",
          "model_name": "LayoutModel",
          "model_module_version": "1.2.0",
          "state": {
            "_view_name": "LayoutView",
            "grid_template_rows": null,
            "right": null,
            "justify_content": null,
            "_view_module": "@jupyter-widgets/base",
            "overflow": null,
            "_model_module_version": "1.2.0",
            "_view_count": null,
            "flex_flow": null,
            "width": null,
            "min_width": null,
            "border": null,
            "align_items": null,
            "bottom": null,
            "_model_module": "@jupyter-widgets/base",
            "top": null,
            "grid_column": null,
            "overflow_y": null,
            "overflow_x": null,
            "grid_auto_flow": null,
            "grid_area": null,
            "grid_template_columns": null,
            "flex": null,
            "_model_name": "LayoutModel",
            "justify_items": null,
            "grid_row": null,
            "max_height": null,
            "align_content": null,
            "visibility": null,
            "align_self": null,
            "height": null,
            "min_height": null,
            "padding": null,
            "grid_auto_rows": null,
            "grid_gap": null,
            "max_width": null,
            "order": null,
            "_view_module_version": "1.2.0",
            "grid_template_areas": null,
            "object_position": null,
            "object_fit": null,
            "grid_auto_columns": null,
            "margin": null,
            "display": null,
            "left": null
          }
        },
        "3818ac72e87b465db8cc56d5dac0d0d0": {
          "model_module": "@jupyter-widgets/controls",
          "model_name": "SliderStyleModel",
          "model_module_version": "1.5.0",
          "state": {
            "_view_name": "StyleView",
            "handle_color": null,
            "_model_name": "SliderStyleModel",
            "description_width": "",
            "_view_module": "@jupyter-widgets/base",
            "_model_module_version": "1.5.0",
            "_view_count": null,
            "_view_module_version": "1.2.0",
            "_model_module": "@jupyter-widgets/controls"
          }
        },
        "b97405f405ba4ed7a7f13acf16cabe88": {
          "model_module": "@jupyter-widgets/base",
          "model_name": "LayoutModel",
          "model_module_version": "1.2.0",
          "state": {
            "_view_name": "LayoutView",
            "grid_template_rows": null,
            "right": null,
            "justify_content": null,
            "_view_module": "@jupyter-widgets/base",
            "overflow": null,
            "_model_module_version": "1.2.0",
            "_view_count": null,
            "flex_flow": null,
            "width": null,
            "min_width": null,
            "border": null,
            "align_items": null,
            "bottom": null,
            "_model_module": "@jupyter-widgets/base",
            "top": null,
            "grid_column": null,
            "overflow_y": null,
            "overflow_x": null,
            "grid_auto_flow": null,
            "grid_area": null,
            "grid_template_columns": null,
            "flex": null,
            "_model_name": "LayoutModel",
            "justify_items": null,
            "grid_row": null,
            "max_height": null,
            "align_content": null,
            "visibility": null,
            "align_self": null,
            "height": null,
            "min_height": null,
            "padding": null,
            "grid_auto_rows": null,
            "grid_gap": null,
            "max_width": null,
            "order": null,
            "_view_module_version": "1.2.0",
            "grid_template_areas": null,
            "object_position": null,
            "object_fit": null,
            "grid_auto_columns": null,
            "margin": null,
            "display": null,
            "left": null
          }
        },
        "556a229cd1a841f58a0ce518e4ca0184": {
          "model_module": "@jupyter-widgets/controls",
          "model_name": "SliderStyleModel",
          "model_module_version": "1.5.0",
          "state": {
            "_view_name": "StyleView",
            "handle_color": null,
            "_model_name": "SliderStyleModel",
            "description_width": "",
            "_view_module": "@jupyter-widgets/base",
            "_model_module_version": "1.5.0",
            "_view_count": null,
            "_view_module_version": "1.2.0",
            "_model_module": "@jupyter-widgets/controls"
          }
        },
        "4fa5bfbda9044e31b4f1bd0e6745ece2": {
          "model_module": "@jupyter-widgets/base",
          "model_name": "LayoutModel",
          "model_module_version": "1.2.0",
          "state": {
            "_view_name": "LayoutView",
            "grid_template_rows": null,
            "right": null,
            "justify_content": null,
            "_view_module": "@jupyter-widgets/base",
            "overflow": null,
            "_model_module_version": "1.2.0",
            "_view_count": null,
            "flex_flow": null,
            "width": null,
            "min_width": null,
            "border": null,
            "align_items": null,
            "bottom": null,
            "_model_module": "@jupyter-widgets/base",
            "top": null,
            "grid_column": null,
            "overflow_y": null,
            "overflow_x": null,
            "grid_auto_flow": null,
            "grid_area": null,
            "grid_template_columns": null,
            "flex": null,
            "_model_name": "LayoutModel",
            "justify_items": null,
            "grid_row": null,
            "max_height": null,
            "align_content": null,
            "visibility": null,
            "align_self": null,
            "height": null,
            "min_height": null,
            "padding": null,
            "grid_auto_rows": null,
            "grid_gap": null,
            "max_width": null,
            "order": null,
            "_view_module_version": "1.2.0",
            "grid_template_areas": null,
            "object_position": null,
            "object_fit": null,
            "grid_auto_columns": null,
            "margin": null,
            "display": null,
            "left": null
          }
        },
        "4a674e6133b44c718b4c714796bdc26e": {
          "model_module": "@jupyter-widgets/base",
          "model_name": "LayoutModel",
          "model_module_version": "1.2.0",
          "state": {
            "_view_name": "LayoutView",
            "grid_template_rows": null,
            "right": null,
            "justify_content": null,
            "_view_module": "@jupyter-widgets/base",
            "overflow": null,
            "_model_module_version": "1.2.0",
            "_view_count": null,
            "flex_flow": null,
            "width": null,
            "min_width": null,
            "border": null,
            "align_items": null,
            "bottom": null,
            "_model_module": "@jupyter-widgets/base",
            "top": null,
            "grid_column": null,
            "overflow_y": null,
            "overflow_x": null,
            "grid_auto_flow": null,
            "grid_area": null,
            "grid_template_columns": null,
            "flex": null,
            "_model_name": "LayoutModel",
            "justify_items": null,
            "grid_row": null,
            "max_height": null,
            "align_content": null,
            "visibility": null,
            "align_self": null,
            "height": null,
            "min_height": null,
            "padding": null,
            "grid_auto_rows": null,
            "grid_gap": null,
            "max_width": null,
            "order": null,
            "_view_module_version": "1.2.0",
            "grid_template_areas": null,
            "object_position": null,
            "object_fit": null,
            "grid_auto_columns": null,
            "margin": null,
            "display": null,
            "left": null
          }
        }
      }
    }
  },
  "cells": [
    {
      "cell_type": "markdown",
      "metadata": {
        "id": "view-in-github",
        "colab_type": "text"
      },
      "source": [
        "<a href=\"https://colab.research.google.com/github/AltamarMx/ai_fluidmechanics/blob/main/complementary_material/erm_001_rotations.ipynb\" target=\"_parent\"><img src=\"https://colab.research.google.com/assets/colab-badge.svg\" alt=\"Open In Colab\"/></a>"
      ]
    },
    {
      "cell_type": "code",
      "metadata": {
        "id": "VzuelPJsuhSf"
      },
      "source": [
        "import numpy as np\n",
        "import matplotlib.pyplot as plt\n",
        "from mpl_toolkits.mplot3d import Axes3D\n",
        "from scipy.spatial.transform import Rotation as R\n",
        "import ipywidgets as widgets\n",
        "from ipywidgets import interact"
      ],
      "execution_count": 1,
      "outputs": []
    },
    {
      "cell_type": "code",
      "metadata": {
        "colab": {
          "base_uri": "https://localhost:8080/"
        },
        "id": "KuA4MadguoIb",
        "outputId": "ad2e0996-5dab-4328-b363-a1867e85bed0"
      },
      "source": [
        "r = R.from_euler('x',90,degrees=True)\n",
        "r.as_matrix().round(3)"
      ],
      "execution_count": 7,
      "outputs": [
        {
          "output_type": "execute_result",
          "data": {
            "text/plain": [
              "array([[ 1.,  0.,  0.],\n",
              "       [ 0.,  0., -1.],\n",
              "       [ 0.,  1.,  0.]])"
            ]
          },
          "metadata": {},
          "execution_count": 7
        }
      ]
    },
    {
      "cell_type": "code",
      "metadata": {
        "colab": {
          "base_uri": "https://localhost:8080/"
        },
        "id": "R8ImIufxu2RT",
        "outputId": "2badc9c8-b06a-494f-cd72-6f90ea722cac"
      },
      "source": [
        "r = R.from_euler('y',90,degrees=True)\n",
        "r.as_matrix().round(3)"
      ],
      "execution_count": 8,
      "outputs": [
        {
          "output_type": "execute_result",
          "data": {
            "text/plain": [
              "array([[ 0.,  0.,  1.],\n",
              "       [ 0.,  1.,  0.],\n",
              "       [-1.,  0.,  0.]])"
            ]
          },
          "metadata": {},
          "execution_count": 8
        }
      ]
    },
    {
      "cell_type": "code",
      "metadata": {
        "colab": {
          "base_uri": "https://localhost:8080/"
        },
        "id": "-pFKbQqdvDef",
        "outputId": "ec8f4eec-38d2-4cac-be08-da3639f7fe22"
      },
      "source": [
        "r = R.from_euler('z',90,degrees=True)\n",
        "r.as_matrix().round(3)"
      ],
      "execution_count": 9,
      "outputs": [
        {
          "output_type": "execute_result",
          "data": {
            "text/plain": [
              "array([[ 0., -1.,  0.],\n",
              "       [ 1.,  0.,  0.],\n",
              "       [ 0.,  0.,  1.]])"
            ]
          },
          "metadata": {},
          "execution_count": 9
        }
      ]
    },
    {
      "cell_type": "code",
      "metadata": {
        "colab": {
          "base_uri": "https://localhost:8080/"
        },
        "id": "Wfgnx1Y8vExU",
        "outputId": "133fc19d-4563-4385-a0f0-c170caa8d032"
      },
      "source": [
        "r = R.from_euler(\"xyz\",[90,45,0],degrees=True)\n",
        "r.as_matrix().round(3)"
      ],
      "execution_count": 10,
      "outputs": [
        {
          "output_type": "execute_result",
          "data": {
            "text/plain": [
              "array([[ 0.707,  0.707,  0.   ],\n",
              "       [ 0.   ,  0.   , -1.   ],\n",
              "       [-0.707,  0.707,  0.   ]])"
            ]
          },
          "metadata": {},
          "execution_count": 10
        }
      ]
    },
    {
      "cell_type": "code",
      "metadata": {
        "colab": {
          "base_uri": "https://localhost:8080/"
        },
        "id": "YR02DvhFvMjU",
        "outputId": "9860f39d-0869-4b8e-d2b9-4133d06295af"
      },
      "source": [
        "r = R.from_euler(\"yzx\",[45,0,90],degrees=True)\n",
        "r.as_matrix().round(3)"
      ],
      "execution_count": 11,
      "outputs": [
        {
          "output_type": "execute_result",
          "data": {
            "text/plain": [
              "array([[ 0.707,  0.   ,  0.707],\n",
              "       [ 0.707,  0.   , -0.707],\n",
              "       [-0.   ,  1.   ,  0.   ]])"
            ]
          },
          "metadata": {},
          "execution_count": 11
        }
      ]
    },
    {
      "cell_type": "code",
      "metadata": {
        "colab": {
          "base_uri": "https://localhost:8080/"
        },
        "id": "7Ihx4DCzvRyl",
        "outputId": "4f12ea5d-8398-4dd1-d6e2-71ed2223d760"
      },
      "source": [
        "thetax = 0\n",
        "thetay = 0\n",
        "thetaz = 30\n",
        "p = np.array([np.sqrt(3),1,0])\n",
        "r = R.from_euler('xyz',[thetax,thetay,thetaz],degrees=True)\n",
        "r.as_matrix().round(2)"
      ],
      "execution_count": 13,
      "outputs": [
        {
          "output_type": "execute_result",
          "data": {
            "text/plain": [
              "array([[ 0.87, -0.5 ,  0.  ],\n",
              "       [ 0.5 ,  0.87,  0.  ],\n",
              "       [ 0.  ,  0.  ,  1.  ]])"
            ]
          },
          "metadata": {},
          "execution_count": 13
        }
      ]
    },
    {
      "cell_type": "code",
      "metadata": {
        "colab": {
          "base_uri": "https://localhost:8080/"
        },
        "id": "y_p1CLADvrtu",
        "outputId": "95168a59-784c-470a-e3e1-338aba537d14"
      },
      "source": [
        "s = r.inv()\n",
        "s.as_matrix().round()"
      ],
      "execution_count": 14,
      "outputs": [
        {
          "output_type": "execute_result",
          "data": {
            "text/plain": [
              "array([[ 1.,  0.,  0.],\n",
              "       [-0.,  1.,  0.],\n",
              "       [ 0.,  0.,  1.]])"
            ]
          },
          "metadata": {},
          "execution_count": 14
        }
      ]
    },
    {
      "cell_type": "code",
      "metadata": {
        "colab": {
          "base_uri": "https://localhost:8080/"
        },
        "id": "Ygoo2Cuzv6i4",
        "outputId": "c0191856-d81e-497f-c394-87a92afd3c93"
      },
      "source": [
        "s.apply(p).round()"
      ],
      "execution_count": 16,
      "outputs": [
        {
          "output_type": "execute_result",
          "data": {
            "text/plain": [
              "array([2., 0., 0.])"
            ]
          },
          "metadata": {},
          "execution_count": 16
        }
      ]
    },
    {
      "cell_type": "code",
      "metadata": {
        "id": "rlGB7iodwCwT"
      },
      "source": [
        "\n",
        "elev = 30\n",
        "azim = 60\n",
        "thetax, thetay, thetaz = 10,20,30\n",
        "\n",
        "\n",
        "def rotation(thetax=0,thetay=0,thetaz=0):\n",
        "    elev=30\n",
        "    azim=60\n",
        "    vx = np.array([1,0,0])\n",
        "    vy = np.array([0,1,0])\n",
        "    vz = np.array([0,0,1])\n",
        "    o  = np.array([0,0,0])\n",
        "    p = np.array([3**.5,1,0])\n",
        "                 \n",
        "    r = R.from_euler('xyz',[thetax,thetay,thetaz],degrees=True)\n",
        "                 \n",
        "    vx_r = r.apply(vx)\n",
        "    vy_r = r.apply(vy)\n",
        "    vz_r = r.apply(vz)\n",
        "\n",
        "    fig = plt.figure()\n",
        "#     ax = Axes3D(fig,auto_add_to_figure=False)\n",
        "    ax = Axes3D(fig)\n",
        "#     fig.add_axes(ax)\n",
        "    ax.quiver3D(o[0],o[1],o[2], vx[0],vx[1],vx[2] ,color=\"blue\", label=\"x\" ,linestyle=\"dashed\")\n",
        "    ax.quiver3D(o[0],o[1],o[2], vy[0],vy[1],vy[2] ,color=\"red\",  label=\"y\" ,linestyle=\"dashed\")\n",
        "    ax.quiver3D(o[0],o[1],o[2], vz[0],vz[1],vz[2] ,color=\"green\",label=\"z\" ,linestyle=\"dashed\")\n",
        "\n",
        "\n",
        "    ax.quiver3D(o[0],o[1],o[2], vx_r[0],vx_r[1],vx_r[2] ,color=\"blue\", label=\"x'\")\n",
        "    ax.quiver3D(o[0],o[1],o[2], vy_r[0],vy_r[1],vy_r[2] ,color=\"red\",  label=\"y'\")\n",
        "    ax.quiver3D(o[0],o[1],o[2], vz_r[0],vz_r[1],vz_r[2] ,color=\"green\",label=\"z'\")\n",
        "\n",
        "    \n",
        "    \n",
        "#     thetaz_r = thetaz *np.pi/180.\n",
        "#     mr = np.array([[np.cos(thetaz_r), -np.sin(thetaz_r)],\n",
        "#                    [np.sin(thetaz_r),  np.cos(thetaz_r)]])\n",
        "    mri = r.inv()\n",
        "    pr = mri.apply(p)\n",
        "    print('Matriz de rotación:\\n')\n",
        "    print(r.as_matrix().round(3))\n",
        "    print('\\n')\n",
        "    \n",
        "    print(\"x  = \",p.round(3))\n",
        "    print(\"x' = \",pr.round(3))\n",
        "                 \n",
        "    ax.scatter(p[0],p[1],p[2],color='k')\n",
        "                 \n",
        "    ax.set_xlim(-2,2)\n",
        "    ax.set_ylim(-2,2)\n",
        "    ax.set_zlim(-2,2)\n",
        "    ax.legend()\n",
        "    ax.view_init(elev,azim)"
      ],
      "execution_count": 17,
      "outputs": []
    },
    {
      "cell_type": "code",
      "metadata": {
        "colab": {
          "base_uri": "https://localhost:8080/",
          "height": 566,
          "referenced_widgets": [
            "bb46d8a262e34d21b1167d13699f2b2a",
            "30db9a32668641fbbe1e3c6e39d51e95",
            "7cf3151581b3433d972a4b55cc4340fc",
            "a371572101cf46cfbf57a31f8afd82be",
            "0e4786deca1e40a09156a268d7a09be4",
            "6c0f6d9e5b9a4e60aa58d3df777d9e09",
            "6eae7f9146c742e7960108fc41927197",
            "4de2814d96974eeab733c78b8b149e1b",
            "3818ac72e87b465db8cc56d5dac0d0d0",
            "b97405f405ba4ed7a7f13acf16cabe88",
            "556a229cd1a841f58a0ce518e4ca0184",
            "4fa5bfbda9044e31b4f1bd0e6745ece2",
            "4a674e6133b44c718b4c714796bdc26e"
          ]
        },
        "id": "syF7VMhvwIbr",
        "outputId": "040b6f76-fc29-4c07-f484-e8e2a0cf8b42"
      },
      "source": [
        "interactive_rotation = interact(rotation,\n",
        "         angle=widgets.IntSlider(min=0,max=360,    step=15,value=0),\n",
        "         thetax=widgets.IntSlider(min=-180,max=180,step=15,value=0),\n",
        "         thetay=widgets.IntSlider(min=-180,max=180,step=15,value=0),\n",
        "         thetaz=widgets.IntSlider(min=-180,max=180,step=15,value=0),\n",
        "         );"
      ],
      "execution_count": 18,
      "outputs": [
        {
          "output_type": "display_data",
          "data": {
            "application/vnd.jupyter.widget-view+json": {
              "model_id": "bb46d8a262e34d21b1167d13699f2b2a",
              "version_minor": 0,
              "version_major": 2
            },
            "text/plain": [
              "interactive(children=(IntSlider(value=0, description='thetax', max=180, min=-180, step=15), IntSlider(value=0,…"
            ]
          },
          "metadata": {}
        }
      ]
    },
    {
      "cell_type": "code",
      "metadata": {
        "id": "yYh7EuojwKET"
      },
      "source": [
        ""
      ],
      "execution_count": null,
      "outputs": []
    }
  ]
}