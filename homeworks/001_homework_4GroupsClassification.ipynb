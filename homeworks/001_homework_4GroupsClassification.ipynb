{
  "nbformat": 4,
  "nbformat_minor": 0,
  "metadata": {
    "colab": {
      "name": "001_homework_4GroupsClassification.ipynb",
      "provenance": [],
      "authorship_tag": "ABX9TyNLrzfqabF38d3SVIzxIXYq",
      "include_colab_link": true
    },
    "kernelspec": {
      "name": "python3",
      "display_name": "Python 3"
    },
    "language_info": {
      "name": "python"
    }
  },
  "cells": [
    {
      "cell_type": "markdown",
      "metadata": {
        "id": "view-in-github",
        "colab_type": "text"
      },
      "source": [
        "<a href=\"https://colab.research.google.com/github/AltamarMx/ai_fluidmechanics/blob/main/homeworks/001_homework_4GroupsClassification.ipynb\" target=\"_parent\"><img src=\"https://colab.research.google.com/assets/colab-badge.svg\" alt=\"Open In Colab\"/></a>"
      ]
    },
    {
      "cell_type": "code",
      "metadata": {
        "id": "KsHzqgujtrBu"
      },
      "source": [
        "import tensorflow as tf\n",
        "import tensorflow.keras as keras\n",
        "from tensorflow.keras import layers\n",
        "from sklearn.datasets import make_circles\n",
        "import matplotlib.pyplot as plt\n",
        "\n",
        "import numpy as np\n",
        "import pandas as pd"
      ],
      "execution_count": 3,
      "outputs": []
    },
    {
      "cell_type": "code",
      "metadata": {
        "colab": {
          "base_uri": "https://localhost:8080/",
          "height": 203
        },
        "id": "Cum4uM9TtzEL",
        "outputId": "b8ed049c-adda-4d79-f33e-55208cba5095"
      },
      "source": [
        "points = 100\n",
        "\n",
        "g_x1 = np.random.normal(loc=4,    size=points)\n",
        "g_y1 = np.random.normal(loc=2.0,  size=points) \n",
        "\n",
        "g_x2 = np.random.normal(loc=9.0,  size=points)\n",
        "g_y2 = np.random.normal(loc=7.0,  size=points)\n",
        "\n",
        "g_x3 = np.random.normal(loc=2.0,  size=points)\n",
        "g_y3 = np.random.normal(loc=10.0,  size=points)\n",
        "\n",
        "g_x4 = np.random.normal(loc=8.0,  size=points)\n",
        "g_y4 = np.random.normal(loc=14.0,  size=points)\n",
        "\n",
        "X0 = np.array([[x,g_y1[i],1]  for i,x in enumerate(g_x1)])\n",
        "X1 = np.array([[x,g_y2[i],2]  for i,x in enumerate(g_x2)])\n",
        "X2 = np.array([[x,g_y3[i],3]  for i,x in enumerate(g_x3)])\n",
        "X3 = np.array([[x,g_y4[i],4]  for i,x in enumerate(g_x4)])\n",
        "\n",
        "x = np.append(X0,X1,axis=0)\n",
        "x = np.append(x,X2,axis=0)\n",
        "x = np.append(x,X3,axis=0)\n",
        "\n",
        "df = pd.DataFrame({'x1': x[:, 0], 'x2': x[:, 1], \"group\":x[:,2]})\n",
        "df.head()"
      ],
      "execution_count": 5,
      "outputs": [
        {
          "output_type": "execute_result",
          "data": {
            "text/html": [
              "<div>\n",
              "<style scoped>\n",
              "    .dataframe tbody tr th:only-of-type {\n",
              "        vertical-align: middle;\n",
              "    }\n",
              "\n",
              "    .dataframe tbody tr th {\n",
              "        vertical-align: top;\n",
              "    }\n",
              "\n",
              "    .dataframe thead th {\n",
              "        text-align: right;\n",
              "    }\n",
              "</style>\n",
              "<table border=\"1\" class=\"dataframe\">\n",
              "  <thead>\n",
              "    <tr style=\"text-align: right;\">\n",
              "      <th></th>\n",
              "      <th>x1</th>\n",
              "      <th>x2</th>\n",
              "      <th>group</th>\n",
              "    </tr>\n",
              "  </thead>\n",
              "  <tbody>\n",
              "    <tr>\n",
              "      <th>0</th>\n",
              "      <td>3.463482</td>\n",
              "      <td>2.366648</td>\n",
              "      <td>1.0</td>\n",
              "    </tr>\n",
              "    <tr>\n",
              "      <th>1</th>\n",
              "      <td>5.523381</td>\n",
              "      <td>1.729572</td>\n",
              "      <td>1.0</td>\n",
              "    </tr>\n",
              "    <tr>\n",
              "      <th>2</th>\n",
              "      <td>4.335180</td>\n",
              "      <td>2.796493</td>\n",
              "      <td>1.0</td>\n",
              "    </tr>\n",
              "    <tr>\n",
              "      <th>3</th>\n",
              "      <td>6.179960</td>\n",
              "      <td>1.869444</td>\n",
              "      <td>1.0</td>\n",
              "    </tr>\n",
              "    <tr>\n",
              "      <th>4</th>\n",
              "      <td>3.330375</td>\n",
              "      <td>1.199140</td>\n",
              "      <td>1.0</td>\n",
              "    </tr>\n",
              "  </tbody>\n",
              "</table>\n",
              "</div>"
            ],
            "text/plain": [
              "         x1        x2  group\n",
              "0  3.463482  2.366648    1.0\n",
              "1  5.523381  1.729572    1.0\n",
              "2  4.335180  2.796493    1.0\n",
              "3  6.179960  1.869444    1.0\n",
              "4  3.330375  1.199140    1.0"
            ]
          },
          "metadata": {},
          "execution_count": 5
        }
      ]
    },
    {
      "cell_type": "code",
      "metadata": {
        "colab": {
          "base_uri": "https://localhost:8080/",
          "height": 286
        },
        "id": "3KzWpRAzt-9E",
        "outputId": "47e33a3f-0c1d-4e7a-a66e-5a847531c61a"
      },
      "source": [
        "\n",
        "cmap = plt.cm.get_cmap(\"jet\", 4)\n",
        "c = plt.scatter(df.x1,df.x2,c=df.group,cmap=cmap)\n",
        "plt.colorbar(c,cmap=cmap)\n"
      ],
      "execution_count": 6,
      "outputs": [
        {
          "output_type": "execute_result",
          "data": {
            "text/plain": [
              "<matplotlib.colorbar.Colorbar at 0x7f42c7b0cb90>"
            ]
          },
          "metadata": {},
          "execution_count": 6
        },
        {
          "output_type": "display_data",
          "data": {
            "image/png": "[encoded data removed]",
            "text/plain": [
              "<Figure size 432x288 with 2 Axes>"
            ]
          },
          "metadata": {
            "needs_background": "light"
          }
        }
      ]
    },
    {
      "cell_type": "code",
      "metadata": {
        "id": "YxVx1H9kvGOh"
      },
      "source": [
        ""
      ],
      "execution_count": null,
      "outputs": []
    },
    {
      "cell_type": "markdown",
      "metadata": {
        "id": "isEUciwHwnwc"
      },
      "source": [
        "\n",
        "Create an ANN that classifies the dataframe provided \"df\" using the columns x1, x2 and the column \"group\", where x1 and x2 are the coordinates of a point.\n",
        "\n",
        "Visualize the trainned ANN as was done in the class.\n"
      ]
    },
    {
      "cell_type": "markdown",
      "metadata": {
        "id": "_laYItX_BT60"
      },
      "source": [
        "It's recommended to review others forms to encode: \n",
        "https://towardsdatascience.com/stop-using-pandas-get-dummies-for-feature-encoding-5d2cd07cb4fc"
      ]
    }
  ]
}